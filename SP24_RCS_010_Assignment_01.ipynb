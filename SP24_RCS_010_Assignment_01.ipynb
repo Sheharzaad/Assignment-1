{
  "nbformat": 4,
  "nbformat_minor": 0,
  "metadata": {
    "colab": {
      "provenance": []
    },
    "kernelspec": {
      "name": "python3",
      "display_name": "Python 3"
    },
    "language_info": {
      "name": "python"
    }
  },
  "cells": [
    {
      "cell_type": "code",
      "source": [
        "# 1.1: Create a list: nums= [3,5,7,8,12] make another named 'cubes' and append the cubes of the given list 'nums' in this list and print it\n",
        "\n",
        "nums = [3, 5, 7, 8, 12]\n",
        "cubes = []\n",
        "for num in nums:\n",
        "  cubes.append(num ** 3)\n",
        "print(cubes)\n"
      ],
      "metadata": {
        "colab": {
          "base_uri": "https://localhost:8080/"
        },
        "id": "wNMSwM_zIaBj",
        "outputId": "4a4b1071-fe65-42f5-ef39-5d5f1b1f2de6"
      },
      "execution_count": 2,
      "outputs": [
        {
          "output_type": "stream",
          "name": "stdout",
          "text": [
            "[27, 125, 343, 512, 1728]\n"
          ]
        }
      ]
    },
    {
      "cell_type": "code",
      "source": [
        "# 1.2: Create an empty dictionary: dict = {}, add the following data to the dictionary: ‘parrot’: 2, ‘goat’: 4, ‘spider’: 8, ‘crab’:\n",
        "# 10 as key value pairs.\n",
        "\n",
        "dict = {}\n",
        "dict['parrot'] = 2\n",
        "dict['goat'] = 4\n",
        "dict['spider'] = 8\n",
        "dict['crab'] = 10\n"
      ],
      "metadata": {
        "id": "pDdaaqeVJzf1"
      },
      "execution_count": 4,
      "outputs": []
    },
    {
      "cell_type": "code",
      "source": [
        "# 1.3: Use the ‘items’ method to loop over the dictionary (dict) and print the animals and their corresponding legs. Sum\n",
        "# the legs of each animal, and print the total at the end.\n",
        "\n",
        "total_legs = 0\n",
        "for animal, legs in dict.items():\n",
        "  print(f\"{animal} has {legs} legs.\")\n",
        "  total_legs += legs\n",
        "\n",
        "print(f\"Total legs: {total_legs}\")\n"
      ],
      "metadata": {
        "colab": {
          "base_uri": "https://localhost:8080/"
        },
        "id": "6cAywe-AKAWM",
        "outputId": "f5a23d70-6fcd-4333-c73f-27586e12357d"
      },
      "execution_count": 5,
      "outputs": [
        {
          "output_type": "stream",
          "name": "stdout",
          "text": [
            "parrot has 2 legs.\n",
            "goat has 4 legs.\n",
            "spider has 8 legs.\n",
            "crab has 10 legs.\n",
            "Total legs: 24\n"
          ]
        }
      ]
    },
    {
      "cell_type": "code",
      "source": [
        "# 1.4: Create a tuple: A = (3, 9, 4, [5, 6]), change the value in the list from ‘5’ to ‘8’.\n",
        "\n",
        "A = (3, 9, 4, [5, 6])\n",
        "A[3][0] = 8\n",
        "print(A)\n",
        "\n"
      ],
      "metadata": {
        "colab": {
          "base_uri": "https://localhost:8080/"
        },
        "id": "m3ZtA83TKGz8",
        "outputId": "14741946-847f-4a78-e379-38368abd0640"
      },
      "execution_count": 6,
      "outputs": [
        {
          "output_type": "stream",
          "name": "stdout",
          "text": [
            "(3, 9, 4, [8, 6])\n"
          ]
        }
      ]
    },
    {
      "cell_type": "code",
      "source": [
        "# 1.5: Delete the tuple A.\n",
        "\n",
        "A = (3, 9, 4, [5, 6])\n",
        "A[3][0] = 8\n",
        "print(A)\n",
        "\n",
        "del A\n",
        "\n"
      ],
      "metadata": {
        "colab": {
          "base_uri": "https://localhost:8080/"
        },
        "id": "d3nrYgBaKWJl",
        "outputId": "2ecd53bc-667a-408b-ee5f-96ab2c0d0179"
      },
      "execution_count": 9,
      "outputs": [
        {
          "output_type": "stream",
          "name": "stdout",
          "text": [
            "(3, 9, 4, [8, 6])\n"
          ]
        }
      ]
    },
    {
      "cell_type": "code",
      "source": [
        "# 1.6: Create another tuple: B = (‘a’, ‘p’, ‘p’, ‘l’, ‘e’), print the number of occurrences of ‘p’ in the tuple.\n",
        "\n",
        "B = ('a', 'p', 'p', 'l', 'e')\n",
        "print(B.count('p'))\n"
      ],
      "metadata": {
        "colab": {
          "base_uri": "https://localhost:8080/"
        },
        "id": "hmGhPv3eKkC-",
        "outputId": "3f7b0ccc-50cd-4f3f-a67c-00fd1048329c"
      },
      "execution_count": 10,
      "outputs": [
        {
          "output_type": "stream",
          "name": "stdout",
          "text": [
            "2\n"
          ]
        }
      ]
    },
    {
      "cell_type": "code",
      "source": [
        "# 1.7: Print the index of ‘l’ in the tuple.\n",
        "\n",
        "B = ('a', 'p', 'p', 'l', 'e')\n",
        "print(B.index('l'))\n"
      ],
      "metadata": {
        "colab": {
          "base_uri": "https://localhost:8080/"
        },
        "id": "0DQyqHQIKpl8",
        "outputId": "cd46d103-4e36-47ae-a66c-1a10b4154cb2"
      },
      "execution_count": 11,
      "outputs": [
        {
          "output_type": "stream",
          "name": "stdout",
          "text": [
            "3\n"
          ]
        }
      ]
    },
    {
      "cell_type": "code",
      "source": [
        "import numpy as np\n",
        "\n",
        "# 2.1 Convert matrix A into numpy array\n",
        "# Original matrix A\n",
        "matrix_A = [[1, 2, 3, 4],\n",
        "            [5, 6, 7, 8],\n",
        "            [9, 10, 11, 12]]\n",
        "\n",
        "A = np.array(matrix_A)\n",
        "print(\"Original matrix A (as a list of lists):\\n\", matrix_A)\n",
        "print(\"\\nConverted numpy array A:\\n\", A)"
      ],
      "metadata": {
        "colab": {
          "base_uri": "https://localhost:8080/"
        },
        "id": "6t1qXfHmLYtF",
        "outputId": "f9d993dd-ace0-40f5-906d-0cb64d0be4a1"
      },
      "execution_count": 26,
      "outputs": [
        {
          "output_type": "stream",
          "name": "stdout",
          "text": [
            "2.1: Original matrix A (as a list of lists):\n",
            " [[1, 2, 3, 4], [5, 6, 7, 8], [9, 10, 11, 12]]\n",
            "\n",
            "Converted numpy array A:\n",
            " [[ 1  2  3  4]\n",
            " [ 5  6  7  8]\n",
            " [ 9 10 11 12]]\n"
          ]
        }
      ]
    },
    {
      "cell_type": "code",
      "source": [
        "# 2.2 Use slicing to pull out the subarray consisting of the first 2 rows and columns 1 and 2\n",
        "\n",
        "b = A[:2, :2]\n",
        "\n",
        "print(\"\\nSubarray b (first 2 rows and columns 1 and 2):\\n\", b)"
      ],
      "metadata": {
        "id": "ALwdqAufT2_B"
      },
      "execution_count": null,
      "outputs": []
    },
    {
      "cell_type": "code",
      "source": [
        "# 2.3 Create an empty matrix ‘C’ with the same shape as ‘A’\n",
        "\n",
        "C = np.empty_like(A)\n",
        "\n",
        "print(\"\\nEmpty Matrix\",C)"
      ],
      "metadata": {
        "id": "DB7PkSSET5z9"
      },
      "execution_count": null,
      "outputs": []
    },
    {
      "cell_type": "code",
      "source": [
        "# 2.4 Add the vector z to each column of the matrix ‘A’ with an explicit loop and store it in ‘C’\n",
        "\n",
        "z = np.array([1, 0, 1])\n",
        "\n",
        "for i in range(A.shape[1]):  # iterate over columns\n",
        "    C[:, i] = A[:, i] + z\n",
        "    print(\"\\nVector Z added:\",C)\n"
      ],
      "metadata": {
        "id": "3O9KohkmT6FT"
      },
      "execution_count": null,
      "outputs": []
    },
    {
      "cell_type": "code",
      "source": [
        "# 2.5 Add and print the matrices X and Y\n",
        "\n",
        "X = np.array([[1, 2],\n",
        "              [3, 4]])\n",
        "Y = np.array([[5, 6],\n",
        "              [7, 8]])\n",
        "\n",
        "sum_X_Y = X + Y\n",
        "print(\"\\nSum of X and Y:\\n\", sum_X_Y)\n"
      ],
      "metadata": {
        "id": "myMmrpYrT6V0"
      },
      "execution_count": null,
      "outputs": []
    },
    {
      "cell_type": "code",
      "source": [
        "# 2.6 Multiply and print the matrices X and Y\n",
        "\n",
        "product_X_Y = np.dot(X, Y)\n",
        "\n",
        "print(\"\\nProduct of X and Y:\\n\", product_X_Y)"
      ],
      "metadata": {
        "id": "nymnZjpPT7Ux"
      },
      "execution_count": null,
      "outputs": []
    },
    {
      "cell_type": "code",
      "source": [
        "# 2.7 Compute and print the element-wise square root of matrix Y\n",
        "\n",
        "sqrt_Y = np.sqrt(Y)\n",
        "\n",
        "print(\"\\nElement-wise square root of Y:\\n\", sqrt_Y)\n"
      ],
      "metadata": {
        "id": "__628EvmT7z-"
      },
      "execution_count": null,
      "outputs": []
    },
    {
      "cell_type": "code",
      "source": [
        "# 2.8 Compute and print the dot product of the matrix X and vector v\n",
        "\n",
        "v = np.array([9, 10])\n",
        "\n",
        "dot_X_v = np.dot(X, v)\n",
        "\n",
        "print(\"\\nDot product of X and v:\\n\", dot_X_v)"
      ],
      "metadata": {
        "id": "I9T8XQ0PT9vJ"
      },
      "execution_count": null,
      "outputs": []
    },
    {
      "cell_type": "code",
      "source": [
        "# 2.9 Compute and print the sum of each column of X\n",
        "\n",
        "sum_columns_X = np.sum(X, axis=0)\n",
        "\n",
        "print(\"\\nSum of each column of X:\\n\", sum_columns_X)\n"
      ],
      "metadata": {
        "id": "FnYXruKVT-Rx"
      },
      "execution_count": null,
      "outputs": []
    },
    {
      "cell_type": "code",
      "source": [
        "# 3.1 Create a function ‘Compute’ that takes two arguments, distance and time, and use it to calculate velocity. and print it\n",
        "\n",
        "def Compute(distance, time):\n",
        "  if time == 0:\n",
        "    return \"Time cannot be zero.\"\n",
        "  else:\n",
        "    velocity = distance / time\n",
        "    return velocity\n",
        "\n",
        "#for example:\n",
        "distance = 100\n",
        "time = 2\n",
        "\n",
        "velocity = Compute(distance, time)\n",
        "print(f\"Velocity: {velocity}\")\n"
      ],
      "metadata": {
        "colab": {
          "base_uri": "https://localhost:8080/"
        },
        "id": "LOt6Kzd8L9jG",
        "outputId": "4829bbba-943b-43e9-b02a-02de67aff31f"
      },
      "execution_count": 19,
      "outputs": [
        {
          "output_type": "stream",
          "name": "stdout",
          "text": [
            "Velocity: 50.0\n"
          ]
        }
      ]
    },
    {
      "cell_type": "code",
      "source": [
        "# 3.2 Make a list named ‘even_num’ that contains all even numbers up till 12. Create a function ‘mult’ that takes the list\n",
        "# ‘even_num’ as an argument and calculates the products of all entries using a for loop.\n",
        "\n",
        "def mult(even_num):\n",
        "\n",
        "  product = 1\n",
        "  for num in even_num:\n",
        "    product *= num\n",
        "  return product\n",
        "\n",
        "# Create the list of even numbers\n",
        "even_num = [x for x in range(2, 13, 2)]\n",
        "print(\"\\nEven Numbers:\",even_num)\n",
        "\n",
        "# Calculate the product of all entries\n",
        "result = mult(even_num)\n",
        "print(f\"The product of all even numbers up to 12 is: {result}\")\n",
        ""
      ],
      "metadata": {
        "colab": {
          "base_uri": "https://localhost:8080/"
        },
        "id": "SNyILMbUPepN",
        "outputId": "57753267-a6df-4a5f-aabe-2a5fd59119a3"
      },
      "execution_count": 9,
      "outputs": [
        {
          "output_type": "stream",
          "name": "stdout",
          "text": [
            "\n",
            "Even Numbers: [2, 4, 6, 8, 10, 12]\n",
            "The product of all even numbers up to 12 is: 46080\n"
          ]
        }
      ]
    },
    {
      "cell_type": "code",
      "source": [
        "# Task 4: Create Panda DataFrame\n",
        "import pandas as pd\n",
        "\n",
        "# Creating a DataFrame with the given data\n",
        "data = {'C1': [1, 2, 3, 5, 5],\n",
        "        'C2': [6, 7, 5, 4, 8],\n",
        "        'C3': [7, 9, 8, 6, 5],\n",
        "        'C4': [7, 5, 2, 8, 8]}\n",
        "\n",
        "# Creating the dataframe\n",
        "df = pd.DataFrame(data)\n",
        "\n",
        "# Displaying the dataframe\n",
        "print(\"DataFrame 'pd':\\n\", df)\n"
      ],
      "metadata": {
        "colab": {
          "base_uri": "https://localhost:8080/"
        },
        "id": "wk6AxA34R0lT",
        "outputId": "9f08713b-c83d-4488-c937-d1b4b8f5313e"
      },
      "execution_count": 13,
      "outputs": [
        {
          "output_type": "stream",
          "name": "stdout",
          "text": [
            "DataFrame 'pd':\n",
            "    C1  C2  C3  C4\n",
            "0   1   6   7   7\n",
            "1   2   7   9   5\n",
            "2   3   5   8   2\n",
            "3   5   4   6   8\n",
            "4   5   8   5   8\n"
          ]
        }
      ]
    },
    {
      "cell_type": "code",
      "source": [
        "# 4.1: Print only the first two rows of the dataframe.\n",
        "\n",
        "print(df.head(2))\n"
      ],
      "metadata": {
        "colab": {
          "base_uri": "https://localhost:8080/"
        },
        "id": "d3fLI5Q0SV4L",
        "outputId": "b7f6d0fc-2dc8-432d-cb98-5ebfccb01ccf"
      },
      "execution_count": 14,
      "outputs": [
        {
          "output_type": "stream",
          "name": "stdout",
          "text": [
            "   C1  C2  C3  C4\n",
            "0   1   6   7   7\n",
            "1   2   7   9   5\n"
          ]
        }
      ]
    },
    {
      "cell_type": "code",
      "source": [
        "# 4.2: Print the second column.\n",
        "\n",
        "print(df.columns)\n",
        "print(df[\"C2\"])"
      ],
      "metadata": {
        "colab": {
          "base_uri": "https://localhost:8080/"
        },
        "id": "z3YODUEnSzMf",
        "outputId": "52eb72a9-2309-449c-d34f-5766d386d4aa"
      },
      "execution_count": 16,
      "outputs": [
        {
          "output_type": "stream",
          "name": "stdout",
          "text": [
            "Index(['C1', 'C2', 'C3', 'C4'], dtype='object')\n",
            "0    6\n",
            "1    7\n",
            "2    5\n",
            "3    4\n",
            "4    8\n",
            "Name: C2, dtype: int64\n"
          ]
        }
      ]
    },
    {
      "cell_type": "code",
      "source": [
        "# 4.3: Change the name of the third column from ‘C3’ to ‘B3’.\n",
        "\n",
        "df = df.rename(columns={'C3': 'B3'})\n",
        "print(df)\n"
      ],
      "metadata": {
        "colab": {
          "base_uri": "https://localhost:8080/"
        },
        "id": "GzfRhN46S1pN",
        "outputId": "0a26e10e-8c4b-4080-878f-935c8c47c654"
      },
      "execution_count": 17,
      "outputs": [
        {
          "output_type": "stream",
          "name": "stdout",
          "text": [
            "   C1  C2  B3  C4\n",
            "0   1   6   7   7\n",
            "1   2   7   9   5\n",
            "2   3   5   8   2\n",
            "3   5   4   6   8\n",
            "4   5   8   5   8\n"
          ]
        }
      ]
    },
    {
      "cell_type": "code",
      "source": [
        "# 4.4: Add a new column to the dataframe and name it ‘Sum’.\n",
        "\n",
        "df['Sum'] = df.sum(axis=1)\n",
        "print(df)\n"
      ],
      "metadata": {
        "colab": {
          "base_uri": "https://localhost:8080/"
        },
        "id": "CCRZfLz5S6q6",
        "outputId": "e48618d8-f47a-4d45-a545-f5c1cec59994"
      },
      "execution_count": 18,
      "outputs": [
        {
          "output_type": "stream",
          "name": "stdout",
          "text": [
            "   C1  C2  B3  C4  Sum\n",
            "0   1   6   7   7   21\n",
            "1   2   7   9   5   23\n",
            "2   3   5   8   2   18\n",
            "3   5   4   6   8   23\n",
            "4   5   8   5   8   26\n"
          ]
        }
      ]
    },
    {
      "cell_type": "code",
      "source": [
        "# 4.5: Sum the entries of each row and add the result in the column ‘Sum’.\n",
        "\n",
        "df['Sum'] = df.sum(axis=1)\n",
        "print(df)\n"
      ],
      "metadata": {
        "colab": {
          "base_uri": "https://localhost:8080/"
        },
        "id": "57o6QlBYS7O0",
        "outputId": "204c5204-9e2f-48fa-e5a6-0979944a0d48"
      },
      "execution_count": 19,
      "outputs": [
        {
          "output_type": "stream",
          "name": "stdout",
          "text": [
            "   C1  C2  B3  C4  Sum\n",
            "0   1   6   7   7   42\n",
            "1   2   7   9   5   46\n",
            "2   3   5   8   2   36\n",
            "3   5   4   6   8   46\n",
            "4   5   8   5   8   52\n"
          ]
        }
      ]
    },
    {
      "cell_type": "code",
      "source": [
        "# 4.6: Read CSV file named ‘hello_sample.csv’ (the file is available in the class Google Drive shared folder) into a Pandas dataframe.\n",
        "\n",
        "import pandas as pd\n",
        "\n",
        "df = pd.read_csv('/content/drive/MyDrive/hello_sample.csv')\n",
        "print(df)\n"
      ],
      "metadata": {
        "colab": {
          "base_uri": "https://localhost:8080/"
        },
        "id": "HXoK1wQ6S7dv",
        "outputId": "55ace3c7-f660-4b33-e17a-aa52d1a0e335"
      },
      "execution_count": 1,
      "outputs": [
        {
          "output_type": "stream",
          "name": "stdout",
          "text": [
            "    Gender  F_Color     B_Month  Weight\n",
            "0     Male    Black       March      77\n",
            "1     Male      Red       March      72\n",
            "2     Male    Black     October      53\n",
            "3   Female     Blue    February      63\n",
            "4     Male    black    October       80\n",
            "5   Female    Black    december      97\n",
            "6     Male   Orange      August      60\n",
            "7   Female      Red   September      59\n",
            "8     Male     Blue        July      60\n",
            "9     Male     Blue         May      58\n",
            "10  Female      Red    October       60\n",
            "11    Male    Black   September      65\n",
            "12    Male    Green    December      85\n",
            "13    Male    Black       April      72\n",
            "14    Male    Green    January       90\n",
            "15    Male   Yellow   November       90\n",
            "16    Male    Black      August      54\n",
            "17    Male    Black     January      82\n",
            "18    Male  Mustard   December       60\n",
            "19  Female    Black    October       76\n",
            "20    Male    Black   February       67\n",
            "21    Male   Yellow       April      74\n",
            "22    Male      Red  September       66\n"
          ]
        }
      ]
    },
    {
      "cell_type": "code",
      "source": [
        "from google.colab import drive\n",
        "drive.mount('/content/drive')"
      ],
      "metadata": {
        "colab": {
          "base_uri": "https://localhost:8080/"
        },
        "id": "RQ90gjZh2Ur5",
        "outputId": "43ead4fe-7887-4cff-f270-938b5a8e903b"
      },
      "execution_count": 2,
      "outputs": [
        {
          "output_type": "stream",
          "name": "stdout",
          "text": [
            "Drive already mounted at /content/drive; to attempt to forcibly remount, call drive.mount(\"/content/drive\", force_remount=True).\n"
          ]
        }
      ]
    },
    {
      "cell_type": "code",
      "source": [
        "# 4.7: Print complete dataframe.\n",
        "\n",
        "print(df)\n"
      ],
      "metadata": {
        "colab": {
          "base_uri": "https://localhost:8080/"
        },
        "id": "80obhcb9TM_H",
        "outputId": "acffb98c-dd31-4aab-8284-91c568d46d6c"
      },
      "execution_count": 3,
      "outputs": [
        {
          "output_type": "stream",
          "name": "stdout",
          "text": [
            "    Gender  F_Color     B_Month  Weight\n",
            "0     Male    Black       March      77\n",
            "1     Male      Red       March      72\n",
            "2     Male    Black     October      53\n",
            "3   Female     Blue    February      63\n",
            "4     Male    black    October       80\n",
            "5   Female    Black    december      97\n",
            "6     Male   Orange      August      60\n",
            "7   Female      Red   September      59\n",
            "8     Male     Blue        July      60\n",
            "9     Male     Blue         May      58\n",
            "10  Female      Red    October       60\n",
            "11    Male    Black   September      65\n",
            "12    Male    Green    December      85\n",
            "13    Male    Black       April      72\n",
            "14    Male    Green    January       90\n",
            "15    Male   Yellow   November       90\n",
            "16    Male    Black      August      54\n",
            "17    Male    Black     January      82\n",
            "18    Male  Mustard   December       60\n",
            "19  Female    Black    October       76\n",
            "20    Male    Black   February       67\n",
            "21    Male   Yellow       April      74\n",
            "22    Male      Red  September       66\n"
          ]
        }
      ]
    },
    {
      "cell_type": "code",
      "source": [
        "# 4.8: Print only bottom 2 records of the dataframe.\n",
        "\n",
        "print(df.tail(2))\n"
      ],
      "metadata": {
        "colab": {
          "base_uri": "https://localhost:8080/"
        },
        "id": "5noGDzSzTSI-",
        "outputId": "854e2e27-3714-48aa-d5bb-0fafec985b81"
      },
      "execution_count": 4,
      "outputs": [
        {
          "output_type": "stream",
          "name": "stdout",
          "text": [
            "   Gender F_Color     B_Month  Weight\n",
            "21   Male  Yellow       April      74\n",
            "22   Male     Red  September       66\n"
          ]
        }
      ]
    },
    {
      "cell_type": "code",
      "source": [
        "# 4.9: Print information about the dataframe.\n",
        "\n",
        "print(df.info())\n"
      ],
      "metadata": {
        "colab": {
          "base_uri": "https://localhost:8080/"
        },
        "id": "JfmTyTYKTdPy",
        "outputId": "7ded4547-5c65-452a-e3cc-cc36b9e5d9a2"
      },
      "execution_count": 5,
      "outputs": [
        {
          "output_type": "stream",
          "name": "stdout",
          "text": [
            "<class 'pandas.core.frame.DataFrame'>\n",
            "RangeIndex: 23 entries, 0 to 22\n",
            "Data columns (total 4 columns):\n",
            " #   Column   Non-Null Count  Dtype \n",
            "---  ------   --------------  ----- \n",
            " 0   Gender   23 non-null     object\n",
            " 1   F_Color  23 non-null     object\n",
            " 2   B_Month  23 non-null     object\n",
            " 3   Weight   23 non-null     int64 \n",
            "dtypes: int64(1), object(3)\n",
            "memory usage: 864.0+ bytes\n",
            "None\n"
          ]
        }
      ]
    },
    {
      "cell_type": "code",
      "source": [
        "# 4.10: Print shape (rows x columns) of the dataframe.\n",
        "\n",
        "print(df.shape)\n"
      ],
      "metadata": {
        "colab": {
          "base_uri": "https://localhost:8080/"
        },
        "id": "-VI1MragTdo-",
        "outputId": "f594334f-4b6f-4822-e3f3-160a54a742b2"
      },
      "execution_count": 6,
      "outputs": [
        {
          "output_type": "stream",
          "name": "stdout",
          "text": [
            "(23, 4)\n"
          ]
        }
      ]
    },
    {
      "cell_type": "code",
      "source": [
        "# 4.11: Sort the data of the dataFrame using column ‘Weight’.\n",
        "\n",
        "# Assuming 'df' is your DataFrame and 'Weight' is the column name\n",
        "df_sorted = df.sort_values(by='Weight')\n",
        "print(df_sorted)\n"
      ],
      "metadata": {
        "colab": {
          "base_uri": "https://localhost:8080/"
        },
        "id": "xDWiM6t3TeGV",
        "outputId": "8f594cc9-95e1-4bac-da12-0a09cced2fac"
      },
      "execution_count": 7,
      "outputs": [
        {
          "output_type": "stream",
          "name": "stdout",
          "text": [
            "    Gender  F_Color     B_Month  Weight\n",
            "2     Male    Black     October      53\n",
            "16    Male    Black      August      54\n",
            "9     Male     Blue         May      58\n",
            "7   Female      Red   September      59\n",
            "18    Male  Mustard   December       60\n",
            "10  Female      Red    October       60\n",
            "6     Male   Orange      August      60\n",
            "8     Male     Blue        July      60\n",
            "3   Female     Blue    February      63\n",
            "11    Male    Black   September      65\n",
            "22    Male      Red  September       66\n",
            "20    Male    Black   February       67\n",
            "13    Male    Black       April      72\n",
            "1     Male      Red       March      72\n",
            "21    Male   Yellow       April      74\n",
            "19  Female    Black    October       76\n",
            "0     Male    Black       March      77\n",
            "4     Male    black    October       80\n",
            "17    Male    Black     January      82\n",
            "12    Male    Green    December      85\n",
            "14    Male    Green    January       90\n",
            "15    Male   Yellow   November       90\n",
            "5   Female    Black    december      97\n"
          ]
        }
      ]
    },
    {
      "cell_type": "code",
      "source": [
        "# 4.12: Use isnull() and dropna() methods of the Pandas dataframe and see if they produce any changes.\n",
        "\n",
        "# Check for null values\n",
        "print(df.isnull())\n",
        "\n",
        "# Drop rows with null values\n",
        "df_dropped = df.dropna()\n",
        "print(df_dropped)\n"
      ],
      "metadata": {
        "colab": {
          "base_uri": "https://localhost:8080/"
        },
        "id": "oar784-QTnph",
        "outputId": "d63e3c52-837b-4219-e6d4-4a43689dc9e6"
      },
      "execution_count": 8,
      "outputs": [
        {
          "output_type": "stream",
          "name": "stdout",
          "text": [
            "    Gender  F_Color  B_Month  Weight\n",
            "0    False    False    False   False\n",
            "1    False    False    False   False\n",
            "2    False    False    False   False\n",
            "3    False    False    False   False\n",
            "4    False    False    False   False\n",
            "5    False    False    False   False\n",
            "6    False    False    False   False\n",
            "7    False    False    False   False\n",
            "8    False    False    False   False\n",
            "9    False    False    False   False\n",
            "10   False    False    False   False\n",
            "11   False    False    False   False\n",
            "12   False    False    False   False\n",
            "13   False    False    False   False\n",
            "14   False    False    False   False\n",
            "15   False    False    False   False\n",
            "16   False    False    False   False\n",
            "17   False    False    False   False\n",
            "18   False    False    False   False\n",
            "19   False    False    False   False\n",
            "20   False    False    False   False\n",
            "21   False    False    False   False\n",
            "22   False    False    False   False\n",
            "    Gender  F_Color     B_Month  Weight\n",
            "0     Male    Black       March      77\n",
            "1     Male      Red       March      72\n",
            "2     Male    Black     October      53\n",
            "3   Female     Blue    February      63\n",
            "4     Male    black    October       80\n",
            "5   Female    Black    december      97\n",
            "6     Male   Orange      August      60\n",
            "7   Female      Red   September      59\n",
            "8     Male     Blue        July      60\n",
            "9     Male     Blue         May      58\n",
            "10  Female      Red    October       60\n",
            "11    Male    Black   September      65\n",
            "12    Male    Green    December      85\n",
            "13    Male    Black       April      72\n",
            "14    Male    Green    January       90\n",
            "15    Male   Yellow   November       90\n",
            "16    Male    Black      August      54\n",
            "17    Male    Black     January      82\n",
            "18    Male  Mustard   December       60\n",
            "19  Female    Black    October       76\n",
            "20    Male    Black   February       67\n",
            "21    Male   Yellow       April      74\n",
            "22    Male      Red  September       66\n"
          ]
        }
      ]
    }
  ]
}